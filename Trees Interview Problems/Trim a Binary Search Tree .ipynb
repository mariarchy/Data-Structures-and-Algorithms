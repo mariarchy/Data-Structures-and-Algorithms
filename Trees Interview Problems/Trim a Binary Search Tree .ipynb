{
 "cells": [
  {
   "cell_type": "markdown",
   "metadata": {},
   "source": [
    "# Trim a Binary Search Tree \n",
    "\n",
    "## Problem Statement\n",
    "\n",
    "Given the root of a binary search tree and 2 numbers min and max, trim the tree such that all the numbers in the new tree are between min and max (inclusive). The resulting tree should still be a valid binary search tree. So, if we get this tree as input:\n",
    "___\n",
    "\n",
    "![title](bst1.png)\n",
    "___\n",
    "and we’re given **min value as 5** and **max value as 13**, then the resulting binary search tree should be: \n",
    "___\n",
    "![title](bst_trim.png)\n",
    "___\n",
    "We should remove all the nodes whose value is not between min and max. \n",
    "\n",
    "___\n",
    "** Feel free to reference the lecture on Binary Search Tree for the node class, but what it more important here is the logic of your function. In which case your function should be in the form:**"
   ]
  },
  {
   "cell_type": "code",
   "execution_count": 1,
   "metadata": {},
   "outputs": [],
   "source": [
    "class TreeNode:\n",
    "    def __init__(self, x=None):\n",
    "        self.val = x\n",
    "        self.right = None\n",
    "        self.left = None"
   ]
  },
  {
   "cell_type": "code",
   "execution_count": 2,
   "metadata": {},
   "outputs": [],
   "source": [
    "def trimBST(tree,minVal,maxVal):\n",
    "    \n",
    "#     print tree.left # LeftChild\n",
    "#     print tree.right # Right Child\n",
    "#     print tree.val # Node's value\n",
    "    \n",
    "    # if root:\n",
    "        # CASE 1: if root > max:\n",
    "            # remove root - root = root.left\n",
    "            # check if left < max\n",
    "        # CASE 2: if root < min:\n",
    "            # remove root - root = root.right\n",
    "            # check if right > min:\n",
    "        # CASE 3: else (min < root.val < max)\n",
    "            # include root\n",
    "            # check for root.left\n",
    "            # check for root.right\n",
    "    if tree == None:\n",
    "        return None\n",
    "    else:\n",
    "        if tree.val > maxVal:\n",
    "            tree = trimBST(tree.left, minVal, maxVal)\n",
    "        elif tree.val < minVal:\n",
    "            # is the parent still linked to the node?\n",
    "            tree = trimBST(tree.right, minVal, maxVal)\n",
    "        else:\n",
    "            tree.left = trimBST(tree.left, minVal, maxVal)\n",
    "            tree.right = trimBST(tree.right, minVal, maxVal)\n",
    "    return tree\n",
    "        \n",
    "def printNodes(tree):\n",
    "    queue = []\n",
    "    \n",
    "    queue.append(tree)\n",
    "    while len(queue) != 0:\n",
    "        print(queue[0].val)\n",
    "        node = queue.pop(0)\n",
    "        if node.left != None:\n",
    "            queue.append(node.left)\n",
    "        if node.right != None:\n",
    "            queue.append(node.right)\n",
    "        "
   ]
  },
  {
   "cell_type": "code",
   "execution_count": 3,
   "metadata": {},
   "outputs": [
    {
     "name": "stdout",
     "output_type": "stream",
     "text": [
      "8\n",
      "6\n",
      "10\n",
      "7\n",
      "13\n"
     ]
    }
   ],
   "source": [
    "root = TreeNode(8)\n",
    "root.left = TreeNode(3)\n",
    "root.left.left = TreeNode(1)\n",
    "root.left.right = TreeNode(6)\n",
    "root.left.right.left = TreeNode(4)\n",
    "root.left.right.right = TreeNode(7)\n",
    "root.right = TreeNode(10)\n",
    "root.right.right = TreeNode(14)\n",
    "root.right.right.left = TreeNode(13)\n",
    "\n",
    "newRoot = trimBST(root, 5, 13)\n",
    "printNodes(newRoot)\n"
   ]
  },
  {
   "cell_type": "markdown",
   "metadata": {},
   "source": [
    "** There is no solution cell because the nature of the code should be more logical and a test would essentially give away the answer. Just focus your answer to fill out the logic of the solution using the methods described above **\n",
    "\n",
    "## Best of luck!"
   ]
  }
 ],
 "metadata": {
  "kernelspec": {
   "display_name": "Python 3",
   "language": "python",
   "name": "python3"
  },
  "language_info": {
   "codemirror_mode": {
    "name": "ipython",
    "version": 3
   },
   "file_extension": ".py",
   "mimetype": "text/x-python",
   "name": "python",
   "nbconvert_exporter": "python",
   "pygments_lexer": "ipython3",
   "version": "3.7.0"
  }
 },
 "nbformat": 4,
 "nbformat_minor": 1
}
