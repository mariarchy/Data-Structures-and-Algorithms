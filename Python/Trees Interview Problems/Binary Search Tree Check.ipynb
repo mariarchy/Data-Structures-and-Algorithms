{
 "cells": [
  {
   "cell_type": "markdown",
   "metadata": {},
   "source": [
    "# Binary Search Tree Check \n",
    "\n",
    "## Problem Statement\n",
    "\n",
    "Given a binary tree, check whether it’s a binary search tree or not.\n",
    "\n",
    "** Again, no solution cell, just worry about your code making sense logically. Hint: Think about tree traversals. **\n",
    "\n",
    "## Solution\n",
    "\n",
    "Fill out your solution below:"
   ]
  },
  {
   "cell_type": "code",
   "execution_count": 3,
   "metadata": {},
   "outputs": [],
   "source": [
    "# Definition for a binary tree node.\n",
    "class TreeNode(object):\n",
    "    def __init__(self, x):\n",
    "        self.val = x\n",
    "        self.left = None\n",
    "        self.right = None"
   ]
  },
  {
   "cell_type": "code",
   "execution_count": 5,
   "metadata": {},
   "outputs": [
    {
     "data": {
      "text/plain": [
       "True"
      ]
     },
     "execution_count": 5,
     "metadata": {},
     "output_type": "execute_result"
    }
   ],
   "source": [
    "orderedList = []\n",
    "\n",
    "def solution(orderedList):\n",
    "    \n",
    "    # traverse and append nodes to list\n",
    "    # check list if in order\n",
    "    return orderedList == sorted(orderedList)\n",
    "    \n",
    "def inorder(tree):\n",
    "    if tree != None:\n",
    "        inorder(tree.left)\n",
    "        orderedList.append(tree.val)\n",
    "        inorder(tree.right)\n",
    "\n",
    "tree = TreeNode(10)\n",
    "tree.left = TreeNode(5)\n",
    "tree.right = TreeNode(15)\n",
    "\n",
    "inorder(tree)\n",
    "solution(orderedList)"
   ]
  },
  {
   "cell_type": "code",
   "execution_count": 9,
   "metadata": {},
   "outputs": [],
   "source": [
    "import math"
   ]
  },
  {
   "cell_type": "code",
   "execution_count": 11,
   "metadata": {},
   "outputs": [
    {
     "data": {
      "text/plain": [
       "False"
      ]
     },
     "execution_count": 11,
     "metadata": {},
     "output_type": "execute_result"
    }
   ],
   "source": [
    "class Solution(object):\n",
    "    def is_validBST(self, root):\n",
    "        return self.check_BST(root, -math.inf, math.inf)\n",
    "    \n",
    "    # return if node > leftChild and node < rightChild\n",
    "    # if node == None, return True\n",
    "    def check_BST(self, node, min, max):\n",
    "        if node == None:\n",
    "            return True\n",
    "        else:\n",
    "            if (min < node.val < max):\n",
    "                leftNode = node.left\n",
    "                rightNode = node.right\n",
    "                return self.check_BST(node.left, min, node.val) and self.check_BST(node.right, node.val, max)\n",
    "            return False\n",
    "\n",
    "        \n",
    "tree = TreeNode(10)\n",
    "tree.left = TreeNode(5)\n",
    "tree.right = TreeNode(15)\n",
    "tree.left.left = TreeNode(7)\n",
    "tree.left.right = TreeNode(7)\n",
    "tree.right.left = TreeNode(12)\n",
    "tree.right.right = TreeNode(17)\n",
    "\n",
    "test = Solution()\n",
    "test.is_validBST(tree)"
   ]
  },
  {
   "cell_type": "markdown",
   "metadata": {},
   "source": [
    "This is a classic interview problem, so feel free to just Google search \"Validate BST\" for more information on this problem!"
   ]
  }
 ],
 "metadata": {
  "kernelspec": {
   "display_name": "Python 3",
   "language": "python",
   "name": "python3"
  },
  "language_info": {
   "codemirror_mode": {
    "name": "ipython",
    "version": 3
   },
   "file_extension": ".py",
   "mimetype": "text/x-python",
   "name": "python",
   "nbconvert_exporter": "python",
   "pygments_lexer": "ipython3",
   "version": "3.7.0"
  }
 },
 "nbformat": 4,
 "nbformat_minor": 1
}
