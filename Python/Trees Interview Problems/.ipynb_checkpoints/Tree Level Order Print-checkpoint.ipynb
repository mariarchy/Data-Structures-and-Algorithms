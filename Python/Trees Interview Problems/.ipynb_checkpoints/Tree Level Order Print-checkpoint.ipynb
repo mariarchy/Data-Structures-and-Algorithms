{
 "cells": [
  {
   "cell_type": "markdown",
   "metadata": {},
   "source": [
    "# Tree Level Order Print \n",
    "\n",
    "Given a binary tree of integers, print it in level order. The output will contain space between the numbers in the same level, and new line between different levels. For example, if the tree is: \n",
    "___\n",
    "![title](tree_print.png)\n",
    "___\n",
    "The output should be: \n",
    "\n",
    "    1 \n",
    "    2 3 \n",
    "    4 5 6"
   ]
  },
  {
   "cell_type": "markdown",
   "metadata": {},
   "source": [
    "## Solution\n",
    "\n",
    "Fill out your solution below:"
   ]
  },
  {
   "cell_type": "code",
   "execution_count": 4,
   "metadata": {},
   "outputs": [],
   "source": [
    "class TreeNode:\n",
    "    def __init__(self, val=None):\n",
    "        self.left = None\n",
    "        self.right = None\n",
    "        self.val =  val "
   ]
  },
  {
   "cell_type": "code",
   "execution_count": 5,
   "metadata": {},
   "outputs": [],
   "source": [
    "from collections import deque"
   ]
  },
  {
   "cell_type": "code",
   "execution_count": 14,
   "metadata": {},
   "outputs": [
    {
     "name": "stdout",
     "output_type": "stream",
     "text": [
      "10 ! 5 ! \n",
      "15 ! \n",
      "\n",
      "\n",
      "1 7 12 17 "
     ]
    }
   ],
   "source": [
    "order = deque()\n",
    "levelOrder = deque()\n",
    "\n",
    "def levelOrderPrint(tree):\n",
    "    order.append(\"\\n\")\n",
    "    traversal(tree)\n",
    "    while len(levelOrder) != 0:\n",
    "        order.appendleft(levelOrder.pop())\n",
    "    while len(order) != 0:\n",
    "        print(order.popleft(), end=\"\")\n",
    "\n",
    "def traversal(node):\n",
    "    # if leaf, addRear - base case: if left & right == None\n",
    "    # else addFront - visiting node\n",
    "    # post order: read left, read right, visit node\n",
    "\n",
    "    if node != None:\n",
    "        if node.left == None and node.right == None:\n",
    "            order.append(str(node.val) + \" \")\n",
    "            return\n",
    "        levelOrder.append(str(node.val) + \" ! \")\n",
    "        traversal(node.left)\n",
    "        levelOrder.append(\"\\n\")\n",
    "        traversal(node.right)\n",
    "    \n",
    "        \n",
    "tree = TreeNode(10)\n",
    "tree.left = TreeNode(5)\n",
    "tree.right = TreeNode(15)\n",
    "tree.left.left = TreeNode(1)\n",
    "tree.left.right = TreeNode(7)\n",
    "tree.right.left = TreeNode(12)\n",
    "tree.right.right = TreeNode(17)\n",
    "\n",
    "levelOrderPrint(tree)\n",
    "\n",
    "    \n"
   ]
  },
  {
   "cell_type": "code",
   "execution_count": null,
   "metadata": {},
   "outputs": [],
   "source": []
  },
  {
   "cell_type": "code",
   "execution_count": null,
   "metadata": {},
   "outputs": [],
   "source": []
  }
 ],
 "metadata": {
  "kernelspec": {
   "display_name": "Python 3",
   "language": "python",
   "name": "python3"
  },
  "language_info": {
   "codemirror_mode": {
    "name": "ipython",
    "version": 3
   },
   "file_extension": ".py",
   "mimetype": "text/x-python",
   "name": "python",
   "nbconvert_exporter": "python",
   "pygments_lexer": "ipython3",
   "version": "3.7.0"
  }
 },
 "nbformat": 4,
 "nbformat_minor": 1
}
